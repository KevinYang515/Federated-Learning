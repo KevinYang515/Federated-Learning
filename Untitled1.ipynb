{
 "cells": [
  {
   "cell_type": "code",
   "execution_count": 1,
   "metadata": {},
   "outputs": [
    {
     "name": "stderr",
     "output_type": "stream",
     "text": [
      "C:\\Users\\KevinLBJ\\Anaconda3\\envs\\fl\\lib\\site-packages\\h5py\\__init__.py:36: FutureWarning: Conversion of the second argument of issubdtype from `float` to `np.floating` is deprecated. In future, it will be treated as `np.float64 == np.dtype(float).type`.\n",
      "  from ._conv import register_converters as _register_converters\n",
      "Using TensorFlow backend.\n"
     ]
    }
   ],
   "source": [
    "# Modified fedavg for our input\n",
    "from __future__ import absolute_import, division, print_function, unicode_literals\n",
    "\n",
    "# Set Specific GPU in tensorflow\n",
    "# We can check GPU information with command ```nvidia-smi```.\n",
    "# If there is only one GPU avaliable, we set the os environ to \"0\".\n",
    "# If there are two GPU avaliable and we would like to set the second GPU, \n",
    "#   we set the os environ to \"1\".\n",
    "import os\n",
    "\n",
    "os.environ[\"CUDA_VISIBLE_DEVICES\"] = \"0\"\n",
    "\n",
    "# Other import\n",
    "import sys\n",
    "import tensorflow as tf\n",
    "import numpy as np\n",
    "import matplotlib.pyplot as plt\n",
    "import cv2\n",
    "import random\n",
    "import data.preprocessing as prep\n",
    "from data.read_data import read_data\n",
    "from data.data_utils import load_cifar10_data, train_test_label_to_categorical\n",
    "from model.model import define_model, init_compile, init_model, record_history\n",
    "from model.operation import broadcast_to_device, caculate_delta, aggregate_add, aggregate_division_return \n",
    "\n",
    "from math import floor\n",
    "from sklearn.utils import shuffle\n",
    "from random import randint\n",
    "from keras import backend as K\n",
    "from keras.preprocessing.image import ImageDataGenerator\n",
    "\n",
    "# We can make sure which specific GPU, and avoid crashing because of out of GPU memory.\n",
    "with K.tf.device('/device:GPU:0'):\n",
    "    config = tf.ConfigProto()\n",
    "    config.gpu_options.allow_growth = True\n",
    "    sess = tf.Session(config=config)\n",
    "_, epo = 0, 0\n",
    "\n",
    "def step_decay(epoch):\n",
    "    epoch = _ + epo\n",
    "    # initial_lrate = 1.0 # no longer needed\n",
    "    drop = 0.99\n",
    "    epochs_drop = 1.0\n",
    "    \n",
    "    lrate = 0.2 * pow(drop, floor((1+epoch)/epochs_drop))\n",
    "    return lrate"
   ]
  },
  {
   "cell_type": "code",
   "execution_count": 2,
   "metadata": {},
   "outputs": [
    {
     "name": "stdout",
     "output_type": "stream",
     "text": [
      "WARNING:tensorflow:From C:\\Users\\KevinLBJ\\Anaconda3\\envs\\fl\\lib\\site-packages\\tensorflow_core\\python\\ops\\resource_variable_ops.py:1630: calling BaseResourceVariable.__init__ (from tensorflow.python.ops.resource_variable_ops) with constraint is deprecated and will be removed in a future version.\n",
      "Instructions for updating:\n",
      "If using Keras pass *_constraint arguments to layers.\n"
     ]
    }
   ],
   "source": [
    "data_distribution_file = './data/file/data_distribution_3000_new_14.txt'\n",
    "data_information_file = './data/file/device_info_3000.txt'\n",
    "\n",
    "# Read data from input file\n",
    "data_distribution = read_data(data_distribution_file, data_information_file)\n",
    "# Load CIFAR-10 data\n",
    "train_images, train_labels, test_images, test_labels = load_cifar10_data()\n",
    "# Transfer train and test label to be categorical\n",
    "train_label, test_label = train_test_label_to_categorical(train_labels, test_labels)\n",
    "\n",
    "# adjust parameters of the model\n",
    "callback = tf.keras.callbacks.LearningRateScheduler(step_decay)\n",
    "\n",
    "augment = ImageDataGenerator(preprocessing_function=prep.preprocessing_for_training)\n",
    "# history_total = {}\n",
    "# 30000\n",
    "# device_list = [0, 20, 21, 22, 23, 27, 37, 65, 73, 81, 95, 98]\n",
    "\n",
    "# 10000\n",
    "device_list = [0, 20, 22, 23, 81]\n",
    "\n",
    "new_device_info = {}\n",
    "\n",
    "for x in device_list:\n",
    "    new_device_info[x] = data_distribution[x]\n",
    "\n",
    "num_device = 100\n",
    "num_center_epoch = 1\n",
    "num_local_epoch = 5\n",
    "num_round = 100\n",
    "center_batch_size = 64\n",
    "local_batch_size = 50\n",
    "\n",
    "show = 0\n",
    "\n",
    "# Define our model\n",
    "model_m, history_total = init_model(True)"
   ]
  },
  {
   "cell_type": "code",
   "execution_count": 6,
   "metadata": {},
   "outputs": [
    {
     "data": {
      "text/plain": [
       "[0, 20, 22, 23, 81]"
      ]
     },
     "execution_count": 6,
     "metadata": {},
     "output_type": "execute_result"
    }
   ],
   "source": [
    "[x for x in new_device_info]"
   ]
  },
  {
   "cell_type": "code",
   "execution_count": 7,
   "metadata": {},
   "outputs": [
    {
     "name": "stdout",
     "output_type": "stream",
     "text": [
      "\n",
      "\u001b[1mRound: 0\n",
      "\u001b[0mDevice: 0 model_0\n",
      "\u001b[0mDevice: 20 model_20\n",
      "\u001b[0mDevice: 22 model_22\n",
      "\u001b[0mDevice: 23 model_23\n",
      "\u001b[0mDevice: 81 model_81\n",
      "Result : 0\n",
      "10000/10000 [==============================] - 1s 65us/sample - loss: 2.3017 - acc: 0.1001\n",
      "\n",
      "\u001b[1mRound: 1\n",
      "\u001b[0mDevice: 0 model_0\n",
      "\u001b[0mDevice: 20 model_20\n"
     ]
    },
    {
     "ename": "KeyboardInterrupt",
     "evalue": "",
     "output_type": "error",
     "traceback": [
      "\u001b[1;31m---------------------------------------------------------------------------\u001b[0m",
      "\u001b[1;31mKeyboardInterrupt\u001b[0m                         Traceback (most recent call last)",
      "\u001b[1;32m<ipython-input-7-ffdfdc91f369>\u001b[0m in \u001b[0;36m<module>\u001b[1;34m\u001b[0m\n\u001b[0;32m     14\u001b[0m         \u001b[1;31m#Local training on each device\u001b[0m\u001b[1;33m\u001b[0m\u001b[1;33m\u001b[0m\u001b[1;33m\u001b[0m\u001b[0m\n\u001b[0;32m     15\u001b[0m         \u001b[1;32mfor\u001b[0m \u001b[0mepo\u001b[0m \u001b[1;32min\u001b[0m \u001b[0mrange\u001b[0m\u001b[1;33m(\u001b[0m\u001b[0mnum_local_epoch\u001b[0m\u001b[1;33m)\u001b[0m\u001b[1;33m:\u001b[0m\u001b[1;33m\u001b[0m\u001b[1;33m\u001b[0m\u001b[0m\n\u001b[1;32m---> 16\u001b[1;33m             \u001b[0mtrain_image_temp\u001b[0m\u001b[1;33m,\u001b[0m \u001b[0mtrain_label_temp\u001b[0m \u001b[1;33m=\u001b[0m \u001b[0mprep\u001b[0m\u001b[1;33m.\u001b[0m\u001b[0mprepare_for_training_data0\u001b[0m\u001b[1;33m(\u001b[0m\u001b[0mtrain_images\u001b[0m\u001b[1;33m,\u001b[0m \u001b[0mtrain_labels\u001b[0m\u001b[1;33m,\u001b[0m \u001b[0mdata_distribution\u001b[0m\u001b[1;33m,\u001b[0m \u001b[0mdevice\u001b[0m\u001b[1;33m)\u001b[0m\u001b[1;33m\u001b[0m\u001b[1;33m\u001b[0m\u001b[0m\n\u001b[0m\u001b[0;32m     17\u001b[0m             \u001b[0mtrain_image_crop\u001b[0m \u001b[1;33m=\u001b[0m \u001b[0mnp\u001b[0m\u001b[1;33m.\u001b[0m\u001b[0mstack\u001b[0m\u001b[1;33m(\u001b[0m\u001b[1;33m[\u001b[0m\u001b[0mprep\u001b[0m\u001b[1;33m.\u001b[0m\u001b[0mrandom_crop\u001b[0m\u001b[1;33m(\u001b[0m\u001b[0mtrain_image_temp\u001b[0m\u001b[1;33m[\u001b[0m\u001b[0mi\u001b[0m\u001b[1;33m]\u001b[0m\u001b[1;33m,\u001b[0m \u001b[1;36m24\u001b[0m\u001b[1;33m,\u001b[0m \u001b[1;36m24\u001b[0m\u001b[1;33m)\u001b[0m \u001b[1;32mfor\u001b[0m \u001b[0mi\u001b[0m \u001b[1;32min\u001b[0m \u001b[0mrange\u001b[0m\u001b[1;33m(\u001b[0m\u001b[0mlen\u001b[0m\u001b[1;33m(\u001b[0m\u001b[0mtrain_image_temp\u001b[0m\u001b[1;33m)\u001b[0m\u001b[1;33m)\u001b[0m\u001b[1;33m]\u001b[0m\u001b[1;33m,\u001b[0m \u001b[0maxis\u001b[0m\u001b[1;33m=\u001b[0m\u001b[1;36m0\u001b[0m\u001b[1;33m)\u001b[0m\u001b[1;33m\u001b[0m\u001b[1;33m\u001b[0m\u001b[0m\n\u001b[0;32m     18\u001b[0m             train_new_image, train_new_label = shuffle(train_image_crop, \n",
      "\u001b[1;32m~\\Federated-Learning\\data\\preprocessing.py\u001b[0m in \u001b[0;36mprepare_for_training_data0\u001b[1;34m(train_images, train_labels, data_distribution, device_num, num_class, quantity_of_each_class)\u001b[0m\n\u001b[0;32m     92\u001b[0m             \u001b[0ms1\u001b[0m \u001b[1;33m=\u001b[0m \u001b[1;33m[\u001b[0m\u001b[0mimage\u001b[0m\u001b[1;33m[\u001b[0m\u001b[0mlabel\u001b[0m\u001b[1;33m[\u001b[0m\u001b[1;33m:\u001b[0m\u001b[1;33m,\u001b[0m \u001b[1;36m0\u001b[0m\u001b[1;33m]\u001b[0m \u001b[1;33m==\u001b[0m \u001b[0mi\u001b[0m\u001b[1;33m]\u001b[0m\u001b[1;33m[\u001b[0m\u001b[0mdevice_num_start\u001b[0m \u001b[1;33m:\u001b[0m \u001b[0mdevice_num_end\u001b[0m\u001b[1;33m]\u001b[0m\u001b[1;33m,\u001b[0m \u001b[0mlabel\u001b[0m\u001b[1;33m[\u001b[0m\u001b[0mlabel\u001b[0m\u001b[1;33m[\u001b[0m\u001b[1;33m:\u001b[0m\u001b[1;33m,\u001b[0m \u001b[1;36m0\u001b[0m\u001b[1;33m]\u001b[0m \u001b[1;33m==\u001b[0m \u001b[0mi\u001b[0m\u001b[1;33m]\u001b[0m\u001b[1;33m[\u001b[0m\u001b[0mdevice_num_start\u001b[0m \u001b[1;33m:\u001b[0m \u001b[0mdevice_num_end\u001b[0m\u001b[1;33m]\u001b[0m\u001b[1;33m]\u001b[0m\u001b[1;33m\u001b[0m\u001b[1;33m\u001b[0m\u001b[0m\n\u001b[0;32m     93\u001b[0m \u001b[1;33m\u001b[0m\u001b[0m\n\u001b[1;32m---> 94\u001b[1;33m         \u001b[0ms0\u001b[0m \u001b[1;33m=\u001b[0m \u001b[1;33m[\u001b[0m\u001b[0mnp\u001b[0m\u001b[1;33m.\u001b[0m\u001b[0mconcatenate\u001b[0m\u001b[1;33m(\u001b[0m\u001b[1;33m(\u001b[0m\u001b[0ms0\u001b[0m\u001b[1;33m[\u001b[0m\u001b[1;36m0\u001b[0m\u001b[1;33m]\u001b[0m\u001b[1;33m,\u001b[0m \u001b[0ms1\u001b[0m\u001b[1;33m[\u001b[0m\u001b[1;36m0\u001b[0m\u001b[1;33m]\u001b[0m\u001b[1;33m)\u001b[0m\u001b[1;33m,\u001b[0m \u001b[0maxis\u001b[0m\u001b[1;33m=\u001b[0m\u001b[1;36m0\u001b[0m\u001b[1;33m)\u001b[0m\u001b[1;33m,\u001b[0m \u001b[0mnp\u001b[0m\u001b[1;33m.\u001b[0m\u001b[0mappend\u001b[0m\u001b[1;33m(\u001b[0m\u001b[0ms0\u001b[0m\u001b[1;33m[\u001b[0m\u001b[1;36m1\u001b[0m\u001b[1;33m]\u001b[0m\u001b[1;33m,\u001b[0m \u001b[0ms1\u001b[0m\u001b[1;33m[\u001b[0m\u001b[1;36m1\u001b[0m\u001b[1;33m]\u001b[0m\u001b[1;33m)\u001b[0m\u001b[1;33m]\u001b[0m\u001b[1;33m\u001b[0m\u001b[1;33m\u001b[0m\u001b[0m\n\u001b[0m\u001b[0;32m     95\u001b[0m \u001b[1;33m\u001b[0m\u001b[0m\n\u001b[0;32m     96\u001b[0m \u001b[1;33m\u001b[0m\u001b[0m\n",
      "\u001b[1;32m<__array_function__ internals>\u001b[0m in \u001b[0;36mconcatenate\u001b[1;34m(*args, **kwargs)\u001b[0m\n",
      "\u001b[1;31mKeyboardInterrupt\u001b[0m: "
     ]
    }
   ],
   "source": [
    "device_set = [x for x in new_device_info]\n",
    "for _ in range(num_round):\n",
    "    print(\"\\n\" + \"\\033[1m\" + \"Round: \" + str(_))\n",
    "    for device in new_device_info:\n",
    "        print(\"\\033[0m\" + \"Device:\", device, \"model_\" + str(device))\n",
    "\n",
    "        if (_ == 0):\n",
    "            #Define and initialize an estimator model\n",
    "            locals()['model_{}'.format(device)] = init_model(False)\n",
    "        else:\n",
    "            #Broadcast to every device (e.g., model_m parameters to all devices)\n",
    "            broadcast_to_device(locals()['model_{}'.format(device)], model_m)\n",
    "\n",
    "        #Local training on each device \n",
    "        for epo in range(num_local_epoch):\n",
    "            train_image_temp, train_label_temp = prep.prepare_for_training_data0(train_images, train_labels, data_distribution, device)\n",
    "            train_image_crop = np.stack([prep.random_crop(train_image_temp[i], 24, 24) for i in range(len(train_image_temp))], axis=0)\n",
    "            train_new_image, train_new_label = shuffle(train_image_crop, \n",
    "                                                    train_label_temp, \n",
    "                                                    random_state=randint(0, train_image_crop.shape[0]))\n",
    "\n",
    "            history_temp = locals()['model_{}'.format(device)].fit_generator(\n",
    "                augment.flow(train_new_image, train_new_label, batch_size=local_batch_size), \n",
    "                epochs=1, \n",
    "                callbacks=[callback],\n",
    "                verbose=show)\n",
    "\n",
    "        #Calculate delta weight on each device\n",
    "        caculate_delta(locals()['model_{}'.format(device)], model_m)\n",
    "\n",
    "    #Aggregate all delta weight on device 0 (Addition)\n",
    "    for device in device_set[1:]:\n",
    "        aggregate_add(locals()['model_{}'.format(device)], locals()['model_{}'.format(device_set[0])])\n",
    "\n",
    "    #Aggregate all delta weight on device 0 (Division) and return total delta weight to center device\n",
    "    aggregate_division_return(locals()['model_{}'.format(device_set[0])], model_m, len(new_device_info))\n",
    "\n",
    "    print(\"Result : \" + str(_))\n",
    "    #Evaluate with new weight\n",
    "    test_d = np.stack([prep.preprocessing_for_testing(test_images[i]) for i in range(10000)], axis=0)\n",
    "    test_new_image, test_new_label = shuffle(test_d, test_label, \n",
    "                                            random_state=randint(1, train_images.shape[0]))\n",
    "\n",
    "    history_temp = model_m.evaluate(test_new_image, test_new_label, batch_size=64)\n",
    "\n",
    "    #Record each round accuracy\n",
    "    record_history(history_temp, history_total)"
   ]
  },
  {
   "cell_type": "code",
   "execution_count": 5,
   "metadata": {},
   "outputs": [
    {
     "data": {
      "text/plain": [
       "[0, 20, 22, 23, 81]"
      ]
     },
     "execution_count": 5,
     "metadata": {},
     "output_type": "execute_result"
    }
   ],
   "source": [
    "[x for x in new_device_info]"
   ]
  },
  {
   "cell_type": "code",
   "execution_count": 35,
   "metadata": {},
   "outputs": [
    {
     "data": {
      "text/plain": [
       "{'val_loss': [2.384, 2.2868320781707765, 1.7666571083068847],\n",
       " 'val_acc': [0.0976, 0.1001, 0.3822]}"
      ]
     },
     "execution_count": 35,
     "metadata": {},
     "output_type": "execute_result"
    }
   ],
   "source": [
    "history_02"
   ]
  }
 ],
 "metadata": {
  "kernelspec": {
   "display_name": "Python(fl)",
   "language": "python",
   "name": "fl"
  },
  "language_info": {
   "codemirror_mode": {
    "name": "ipython",
    "version": 3
   },
   "file_extension": ".py",
   "mimetype": "text/x-python",
   "name": "python",
   "nbconvert_exporter": "python",
   "pygments_lexer": "ipython3",
   "version": "3.6.10"
  }
 },
 "nbformat": 4,
 "nbformat_minor": 4
}
